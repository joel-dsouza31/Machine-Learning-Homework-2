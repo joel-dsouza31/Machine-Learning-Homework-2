{
 "cells": [
  {
   "cell_type": "code",
   "execution_count": 1,
   "metadata": {},
   "outputs": [],
   "source": [
    "#Creating training and test files from given data\n",
    "import csv\n",
    "\n",
    "rownames=[1,2,3,4,5,6,7,8,9,10,11,12,13,14,15,16,17,18,19,20,21,22,23,24,25,26,27,28,29,30,31,32,33,34,35,36,\"Class\"]\n",
    "with open('satimage_training.csv', 'w+') as csvFile:\n",
    "    \n",
    "    writer = csv.writer(csvFile)\n",
    "    writer.writerow(rownames)\n",
    "    for contents in open(\"satimage.scale.training\",\"r\"):\n",
    "    #for j in range(1):\n",
    "        row=[]\n",
    "        #f= open(\"satimage.scale.training\",\"r\")\n",
    "        #contents =f.readline()\n",
    "        line=contents.split()\n",
    "        read=1;\n",
    "        for i in range(1,37): #f.mode == 'r':\n",
    "            #print(line[i].split(\":\"))\n",
    "            if (int(line[read].split(\":\")[0]))!=i:\n",
    "                row.append(\"\")\n",
    "                #print(int(line[read].split(\":\")[0]),\":\",i)\n",
    "                continue\n",
    "            row.append(line[read].split(\":\")[1])\n",
    "            read=read+1\n",
    "        row.append(line[0])\n",
    "        #print(row)\n",
    "        writer.writerow(row)\n",
    "csvFile.close()"
   ]
  },
  {
   "cell_type": "code",
   "execution_count": 2,
   "metadata": {},
   "outputs": [],
   "source": [
    "with open('satimage_test.csv', 'w+') as csvFile:\n",
    "    \n",
    "    writer = csv.writer(csvFile)\n",
    "    writer.writerow(rownames)\n",
    "    for contents in open(\"satimage.scale.t\",\"r\"):\n",
    "    #for j in range(1):\n",
    "        row=[]\n",
    "        #f= open(\"satimage.scale.training\",\"r\")\n",
    "        #contents =f.readline()\n",
    "        line=contents.split()\n",
    "        read=1;\n",
    "        for i in range(1,37): #f.mode == 'r':\n",
    "            #print(line[i].split(\":\"))\n",
    "            if (int(line[read].split(\":\")[0]))!=i:\n",
    "                row.append(\"\")\n",
    "                #print(int(line[read].split(\":\")[0]),\":\",i)\n",
    "                continue\n",
    "            row.append(line[read].split(\":\")[1])\n",
    "            read=read+1\n",
    "        row.append(line[0])\n",
    "        #print(row)\n",
    "        writer.writerow(row)\n",
    "csvFile.close()"
   ]
  },
  {
   "cell_type": "code",
   "execution_count": 3,
   "metadata": {},
   "outputs": [],
   "source": [
    "import pandas as pd\n",
    "\n",
    "df = pd.read_csv('satimage_training.csv')\n",
    "df.dropna(inplace=True)\n",
    "X_train = df[['1','2','3','4','5','6','7','8','8','9','10','11','12','13','14','15','16','17','18','19','20','21','22','23','24','25','26','27','28','29','30','31','32','33','34','35','36']]\n",
    "y_train = df[['Class']]\n",
    "df = pd.read_csv('satimage_test.csv')\n",
    "df.dropna(inplace=True)\n",
    "X_test = df[['1','2','3','4','5','6','7','8','8','9','10','11','12','13','14','15','16','17','18','19','20','21','22','23','24','25','26','27','28','29','30','31','32','33','34','35','36']]\n",
    "y_test = df[['Class']]\n",
    "Class_dict = {\n",
    "    1:0,2:0,3:0,4:0,5:0,\n",
    "    6:1\n",
    "}\n",
    "y_train=y_train.Class.map( Class_dict )\n",
    "y_train=y_train.to_frame()\n",
    "y_test=y_test.Class.map( Class_dict )\n",
    "y_test=y_test.to_frame()"
   ]
  },
  {
   "cell_type": "code",
   "execution_count": null,
   "metadata": {},
   "outputs": [],
   "source": []
  },
  {
   "cell_type": "code",
   "execution_count": 4,
   "metadata": {},
   "outputs": [],
   "source": [
    "import numpy as np\n",
    "import pickle\n",
    "import matplotlib.pyplot as plt\n",
    "from sklearn.preprocessing import normalize\n",
    "import os\n",
    "\n",
    "rslt_addr = \"./results/Bdlaskndsal/\"\n",
    "rslt_addr = \"./results/\"\n",
    "if not os.path.exists(rslt_addr):\n",
    "    os.makedirs(rslt_addr)\n",
    "X_train = pd.DataFrame(normalize(X_train))\n",
    "X_test = pd.DataFrame(normalize(X_test))\n",
    "n_folds = 10\n",
    "c_vals = np.power(float(10), range(-7, 10 + 1))"
   ]
  },
  {
   "cell_type": "code",
   "execution_count": 5,
   "metadata": {},
   "outputs": [],
   "source": [
    "from sklearn.svm import SVC\n",
    "from sklearn.model_selection import StratifiedKFold\n",
    "from sklearn.metrics import roc_auc_score\n",
    "\n",
    "def cross_validate_c_vals(X, y, c_vals, n_folds,d):\n",
    "    \n",
    "    c_auc_dict = {}\n",
    "    c_auc_folds = {}\n",
    "    support_vectors = 0\n",
    "    for c in c_vals:\n",
    "        c_auc_dict[c] = 0\n",
    "        c_auc_folds[c] = []\n",
    "        skf=StratifiedKFold(n_splits=n_folds, shuffle=True)\n",
    "        for train_index, test_index in skf.split(X, y):\n",
    "            X_train, X_test = X.iloc[train_index], X.iloc[test_index]\n",
    "            y_train, y_test = y.iloc[train_index].values.ravel(), y.iloc[test_index].values.ravel()\n",
    "\n",
    "            svm = SVC(C=c, kernel=\"poly\", degree=d, shrinking=False)\n",
    "            \n",
    "            svm.fit(X_train, y_train)\n",
    "            \n",
    "            support_vectors = support_vectors + (svm.support_vectors_[0] + svm.support_vectors_[1])/n_folds\n",
    "            \n",
    "            pred   =   svm.predict(X_test)\n",
    "            \n",
    "            c_auc_folds[c].append(roc_auc_score(y_test, pred))\n",
    "            c_auc_dict[c]   += roc_auc_score(y_test, pred)/n_folds\n",
    "        \n",
    "    return c_auc_dict,c_auc_folds,support_vectors"
   ]
  },
  {
   "cell_type": "markdown",
   "metadata": {},
   "source": []
  },
  {
   "cell_type": "code",
   "execution_count": 6,
   "metadata": {},
   "outputs": [
    {
     "ename": "KeyboardInterrupt",
     "evalue": "",
     "output_type": "error",
     "traceback": [
      "\u001b[1;31m---------------------------------------------------------------------------\u001b[0m",
      "\u001b[1;31mKeyboardInterrupt\u001b[0m                         Traceback (most recent call last)",
      "\u001b[1;32m<ipython-input-6-1a65e099b545>\u001b[0m in \u001b[0;36m<module>\u001b[1;34m\u001b[0m\n\u001b[0;32m     21\u001b[0m \u001b[1;33m\u001b[0m\u001b[0m\n\u001b[0;32m     22\u001b[0m \u001b[1;32mfor\u001b[0m \u001b[0md\u001b[0m \u001b[1;32min\u001b[0m \u001b[0mrange\u001b[0m\u001b[1;33m(\u001b[0m\u001b[1;36m1\u001b[0m\u001b[1;33m,\u001b[0m\u001b[1;36m5\u001b[0m\u001b[1;33m)\u001b[0m\u001b[1;33m:\u001b[0m\u001b[1;33m\u001b[0m\u001b[1;33m\u001b[0m\u001b[0m\n\u001b[1;32m---> 23\u001b[1;33m     \u001b[0mc_auc_dict\u001b[0m\u001b[1;33m,\u001b[0m\u001b[0mc_auc_folds\u001b[0m\u001b[1;33m,\u001b[0m\u001b[0msupport_vectors\u001b[0m \u001b[1;33m=\u001b[0m \u001b[0mcross_validate_c_vals\u001b[0m\u001b[1;33m(\u001b[0m\u001b[0mX_train\u001b[0m\u001b[1;33m,\u001b[0m \u001b[0my_train\u001b[0m\u001b[1;33m,\u001b[0m \u001b[0mc_vals\u001b[0m\u001b[1;33m,\u001b[0m \u001b[0mn_folds\u001b[0m\u001b[1;33m,\u001b[0m\u001b[0md\u001b[0m\u001b[1;33m)\u001b[0m\u001b[1;33m\u001b[0m\u001b[1;33m\u001b[0m\u001b[0m\n\u001b[0m\u001b[0;32m     24\u001b[0m     \u001b[0md_support_vectors\u001b[0m\u001b[1;33m[\u001b[0m\u001b[0md\u001b[0m\u001b[1;33m]\u001b[0m\u001b[1;33m=\u001b[0m\u001b[0msupport_vectors\u001b[0m\u001b[1;33m\u001b[0m\u001b[1;33m\u001b[0m\u001b[0m\n\u001b[0;32m     25\u001b[0m     \u001b[0md_dict\u001b[0m\u001b[1;33m[\u001b[0m\u001b[0md\u001b[0m\u001b[1;33m]\u001b[0m\u001b[1;33m=\u001b[0m\u001b[0mc_auc_dict\u001b[0m\u001b[1;33m\u001b[0m\u001b[1;33m\u001b[0m\u001b[0m\n",
      "\u001b[1;32m<ipython-input-5-1348ef02229e>\u001b[0m in \u001b[0;36mcross_validate_c_vals\u001b[1;34m(X, y, c_vals, n_folds, d)\u001b[0m\n\u001b[0;32m     18\u001b[0m             \u001b[0msvm\u001b[0m \u001b[1;33m=\u001b[0m \u001b[0mSVC\u001b[0m\u001b[1;33m(\u001b[0m\u001b[0mC\u001b[0m\u001b[1;33m=\u001b[0m\u001b[0mc\u001b[0m\u001b[1;33m,\u001b[0m \u001b[0mkernel\u001b[0m\u001b[1;33m=\u001b[0m\u001b[1;34m\"poly\"\u001b[0m\u001b[1;33m,\u001b[0m \u001b[0mdegree\u001b[0m\u001b[1;33m=\u001b[0m\u001b[0md\u001b[0m\u001b[1;33m,\u001b[0m \u001b[0mshrinking\u001b[0m\u001b[1;33m=\u001b[0m\u001b[1;32mFalse\u001b[0m\u001b[1;33m)\u001b[0m\u001b[1;33m\u001b[0m\u001b[1;33m\u001b[0m\u001b[0m\n\u001b[0;32m     19\u001b[0m \u001b[1;33m\u001b[0m\u001b[0m\n\u001b[1;32m---> 20\u001b[1;33m             \u001b[0msvm\u001b[0m\u001b[1;33m.\u001b[0m\u001b[0mfit\u001b[0m\u001b[1;33m(\u001b[0m\u001b[0mX_train\u001b[0m\u001b[1;33m,\u001b[0m \u001b[0my_train\u001b[0m\u001b[1;33m)\u001b[0m\u001b[1;33m\u001b[0m\u001b[1;33m\u001b[0m\u001b[0m\n\u001b[0m\u001b[0;32m     21\u001b[0m \u001b[1;33m\u001b[0m\u001b[0m\n\u001b[0;32m     22\u001b[0m             \u001b[0msupport_vectors\u001b[0m \u001b[1;33m=\u001b[0m \u001b[0msupport_vectors\u001b[0m \u001b[1;33m+\u001b[0m \u001b[1;33m(\u001b[0m\u001b[0msvm\u001b[0m\u001b[1;33m.\u001b[0m\u001b[0msupport_vectors_\u001b[0m\u001b[1;33m[\u001b[0m\u001b[1;36m0\u001b[0m\u001b[1;33m]\u001b[0m \u001b[1;33m+\u001b[0m \u001b[0msvm\u001b[0m\u001b[1;33m.\u001b[0m\u001b[0msupport_vectors_\u001b[0m\u001b[1;33m[\u001b[0m\u001b[1;36m1\u001b[0m\u001b[1;33m]\u001b[0m\u001b[1;33m)\u001b[0m\u001b[1;33m/\u001b[0m\u001b[0mn_folds\u001b[0m\u001b[1;33m\u001b[0m\u001b[1;33m\u001b[0m\u001b[0m\n",
      "\u001b[1;32m~\\Anaconda3\\lib\\site-packages\\sklearn\\svm\\base.py\u001b[0m in \u001b[0;36mfit\u001b[1;34m(self, X, y, sample_weight)\u001b[0m\n\u001b[0;32m    210\u001b[0m \u001b[1;33m\u001b[0m\u001b[0m\n\u001b[0;32m    211\u001b[0m         \u001b[0mseed\u001b[0m \u001b[1;33m=\u001b[0m \u001b[0mrnd\u001b[0m\u001b[1;33m.\u001b[0m\u001b[0mrandint\u001b[0m\u001b[1;33m(\u001b[0m\u001b[0mnp\u001b[0m\u001b[1;33m.\u001b[0m\u001b[0miinfo\u001b[0m\u001b[1;33m(\u001b[0m\u001b[1;34m'i'\u001b[0m\u001b[1;33m)\u001b[0m\u001b[1;33m.\u001b[0m\u001b[0mmax\u001b[0m\u001b[1;33m)\u001b[0m\u001b[1;33m\u001b[0m\u001b[1;33m\u001b[0m\u001b[0m\n\u001b[1;32m--> 212\u001b[1;33m         \u001b[0mfit\u001b[0m\u001b[1;33m(\u001b[0m\u001b[0mX\u001b[0m\u001b[1;33m,\u001b[0m \u001b[0my\u001b[0m\u001b[1;33m,\u001b[0m \u001b[0msample_weight\u001b[0m\u001b[1;33m,\u001b[0m \u001b[0msolver_type\u001b[0m\u001b[1;33m,\u001b[0m \u001b[0mkernel\u001b[0m\u001b[1;33m,\u001b[0m \u001b[0mrandom_seed\u001b[0m\u001b[1;33m=\u001b[0m\u001b[0mseed\u001b[0m\u001b[1;33m)\u001b[0m\u001b[1;33m\u001b[0m\u001b[1;33m\u001b[0m\u001b[0m\n\u001b[0m\u001b[0;32m    213\u001b[0m         \u001b[1;31m# see comment on the other call to np.iinfo in this file\u001b[0m\u001b[1;33m\u001b[0m\u001b[1;33m\u001b[0m\u001b[1;33m\u001b[0m\u001b[0m\n\u001b[0;32m    214\u001b[0m \u001b[1;33m\u001b[0m\u001b[0m\n",
      "\u001b[1;32m~\\Anaconda3\\lib\\site-packages\\sklearn\\svm\\base.py\u001b[0m in \u001b[0;36m_dense_fit\u001b[1;34m(self, X, y, sample_weight, solver_type, kernel, random_seed)\u001b[0m\n\u001b[0;32m    269\u001b[0m                 \u001b[0mcache_size\u001b[0m\u001b[1;33m=\u001b[0m\u001b[0mself\u001b[0m\u001b[1;33m.\u001b[0m\u001b[0mcache_size\u001b[0m\u001b[1;33m,\u001b[0m \u001b[0mcoef0\u001b[0m\u001b[1;33m=\u001b[0m\u001b[0mself\u001b[0m\u001b[1;33m.\u001b[0m\u001b[0mcoef0\u001b[0m\u001b[1;33m,\u001b[0m\u001b[1;33m\u001b[0m\u001b[1;33m\u001b[0m\u001b[0m\n\u001b[0;32m    270\u001b[0m                 \u001b[0mgamma\u001b[0m\u001b[1;33m=\u001b[0m\u001b[0mself\u001b[0m\u001b[1;33m.\u001b[0m\u001b[0m_gamma\u001b[0m\u001b[1;33m,\u001b[0m \u001b[0mepsilon\u001b[0m\u001b[1;33m=\u001b[0m\u001b[0mself\u001b[0m\u001b[1;33m.\u001b[0m\u001b[0mepsilon\u001b[0m\u001b[1;33m,\u001b[0m\u001b[1;33m\u001b[0m\u001b[1;33m\u001b[0m\u001b[0m\n\u001b[1;32m--> 271\u001b[1;33m                 max_iter=self.max_iter, random_seed=random_seed)\n\u001b[0m\u001b[0;32m    272\u001b[0m \u001b[1;33m\u001b[0m\u001b[0m\n\u001b[0;32m    273\u001b[0m         \u001b[0mself\u001b[0m\u001b[1;33m.\u001b[0m\u001b[0m_warn_from_fit_status\u001b[0m\u001b[1;33m(\u001b[0m\u001b[1;33m)\u001b[0m\u001b[1;33m\u001b[0m\u001b[1;33m\u001b[0m\u001b[0m\n",
      "\u001b[1;31mKeyboardInterrupt\u001b[0m: "
     ]
    }
   ],
   "source": [
    "import os\n",
    "import warnings\n",
    "warnings.simplefilter('ignore')\n",
    "\n",
    "#rslt_addr = \"./results/Bdlaskndsal/\"\n",
    "rslt_addr = \"./results/\"\n",
    "if not os.path.exists(rslt_addr):\n",
    "    os.makedirs(rslt_addr)\n",
    "    \n",
    "rslt_dict_name = \"svm_results.pickle\"\n",
    "rslt_dict_addr = os.path.join(rslt_addr, rslt_dict_name)\n",
    "\n",
    "import numpy as np\n",
    "import pickle\n",
    "\n",
    "c_vals = np.power(float(10), range(-10, 9 + 1))\n",
    "n_folds = 10\n",
    "d_support_vectors={}\n",
    "d_dict={}\n",
    "d_dict_fold={}\n",
    "\n",
    "for d in range(1,5):\n",
    "    c_auc_dict,c_auc_folds,support_vectors = cross_validate_c_vals(X_train, y_train, c_vals, n_folds,d)\n",
    "    d_support_vectors[d]=support_vectors\n",
    "    d_dict[d]=c_auc_dict\n",
    "    d_dict_fold[d]=c_auc_folds"
   ]
  },
  {
   "cell_type": "code",
   "execution_count": null,
   "metadata": {},
   "outputs": [],
   "source": [
    "m=1\n",
    "d_optim={}\n",
    "for d in range(1,5):\n",
    "    m=1\n",
    "    for c in c_vals:\n",
    "        if m==1:\n",
    "            maximum=d_dict[d][c]\n",
    "            optim_c=c\n",
    "            m==2\n",
    "        if d_dict[d][c]>maximum:\n",
    "            maximum=d_dict[d][c]\n",
    "            optim_c=c\n",
    "    d_optim[d]=optim_c"
   ]
  },
  {
   "cell_type": "code",
   "execution_count": null,
   "metadata": {},
   "outputs": [],
   "source": [
    "for d in range(1,2):\n",
    "    c=d_optim[d]\n",
    "    svm = SVC(C=c, kernel=\"poly\", degree=d, shrinking=False)\n",
    "    svm.fit(X_train, y_train)\n",
    "    pred = svm.predict(X_test)\n",
    "    "
   ]
  },
  {
   "cell_type": "code",
   "execution_count": null,
   "metadata": {},
   "outputs": [],
   "source": []
  },
  {
   "cell_type": "markdown",
   "metadata": {},
   "source": []
  }
 ],
 "metadata": {
  "kernelspec": {
   "display_name": "Python 3",
   "language": "python",
   "name": "python3"
  },
  "language_info": {
   "codemirror_mode": {
    "name": "ipython",
    "version": 3
   },
   "file_extension": ".py",
   "mimetype": "text/x-python",
   "name": "python",
   "nbconvert_exporter": "python",
   "pygments_lexer": "ipython3",
   "version": "3.7.1"
  }
 },
 "nbformat": 4,
 "nbformat_minor": 2
}
